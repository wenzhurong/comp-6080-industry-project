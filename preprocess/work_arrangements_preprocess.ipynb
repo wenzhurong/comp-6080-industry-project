{
 "cells": [
  {
   "cell_type": "code",
   "id": "initial_id",
   "metadata": {
    "collapsed": true,
    "ExecuteTime": {
     "end_time": "2025-04-19T01:54:44.146547Z",
     "start_time": "2025-04-19T01:54:44.118919Z"
    }
   },
   "source": [
    "import csv\n",
    "import json\n",
    "\n",
    "def csv_to_json(input_file, output_file):\n",
    "    valid_statuses = {'OnSite', 'Remote', 'Hybrid'}\n",
    "    output_data = []\n",
    "\n",
    "    with open(input_file, 'r', newline='', encoding='utf-8') as infile:\n",
    "        reader = csv.reader(infile)\n",
    "        for row_num, row in enumerate(reader, 1):\n",
    "            # Skip header row if present\n",
    "            if row_num == 1:\n",
    "                continue\n",
    "\n",
    "            if len(row) != 3:\n",
    "                print(f\"Invalid row number: {row_num} expected 3 columns, got {len(row)} columns, skipped\")\n",
    "                continue\n",
    "\n",
    "            id_col, text_col, status_col = row\n",
    "            cleaned_id = id_col.strip().replace('\\n', ' ')\n",
    "            cleaned_text = text_col.strip().replace('\\n', ' ')\n",
    "\n",
    "            if status_col not in valid_statuses:\n",
    "                print(f\"Invalid row number: {row_num} invalid status '{status_col}', skipped\")\n",
    "                continue\n",
    "\n",
    "            # Create a dictionary for the valid row\n",
    "            row_dict = {\n",
    "                \"id\": cleaned_id,\n",
    "                \"text\": cleaned_text,\n",
    "                \"status\": status_col\n",
    "            }\n",
    "            output_data.append(row_dict)\n",
    "\n",
    "    # Write the collected data as JSON with pretty formatting\n",
    "    with open(output_file, 'w', encoding='utf-8') as outfile:\n",
    "        json.dump(output_data, outfile, ensure_ascii=False, indent=4)\n",
    "\n",
    "\n",
    "if __name__ == \"__main__\":\n",
    "    csv_to_json('../raw_data/work_arrangements_development_set.csv',\n",
    "                '../processed_data/processed_work_arrangements_development_set.json')\n"
   ],
   "outputs": [],
   "execution_count": 2
  },
  {
   "metadata": {},
   "cell_type": "code",
   "outputs": [],
   "execution_count": null,
   "source": "",
   "id": "d9d3e5df71c4f119"
  }
 ],
 "metadata": {
  "kernelspec": {
   "display_name": "Python 3",
   "language": "python",
   "name": "python3"
  },
  "language_info": {
   "codemirror_mode": {
    "name": "ipython",
    "version": 2
   },
   "file_extension": ".py",
   "mimetype": "text/x-python",
   "name": "python",
   "nbconvert_exporter": "python",
   "pygments_lexer": "ipython2",
   "version": "2.7.6"
  }
 },
 "nbformat": 4,
 "nbformat_minor": 5
}
